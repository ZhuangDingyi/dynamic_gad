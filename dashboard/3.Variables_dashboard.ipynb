{
 "cells": [
  {
   "cell_type": "markdown",
   "metadata": {},
   "source": [
    "In this notebook, we create necessary variables for dashboard inputs to visualzie the fraud data."
   ]
  },
  {
   "cell_type": "code",
   "execution_count": 1,
   "metadata": {},
   "outputs": [],
   "source": [
    "import pandas as pd\n",
    "import numpy as np\n",
    "import torch\n",
    "from torch_geometric.data import HeteroData\n",
    "import networkx as nx\n",
    "import plotly.graph_objs as go\n",
    "import os\n",
    "import sys\n",
    "sys.path.append(os.path.abspath('../model/'))\n",
    "from utils import create_hetero_data"
   ]
  },
  {
   "cell_type": "code",
   "execution_count": 8,
   "metadata": {},
   "outputs": [],
   "source": [
    "# Path to your heterogeneous data\n",
    "path_hetero_data = ''\n",
    "\n",
    "# Create the hetero data\n",
    "data_name = 'amlsim_mixed'  # 'elliptic' dgraph_fin amlsim_mixed\n",
    "ext_rate = 0.3\n",
    "data_path = f'../hetero_data/{data_name}/ext_{ext_rate}/'\n",
    "accounts = pd.read_csv(data_path + 'accounts.csv')\n",
    "data = create_hetero_data(data_path)\n",
    "\n",
    "ext_embed_file = os.path.join(data_path, 'ext_embed.pt')\n",
    "if os.path.exists(ext_embed_file):\n",
    "    data['external'].x = torch.load(ext_embed_file)\n",
    "else:\n",
    "    print('External node embeddings not foundm, please run the feature balanced algorithm.')\n",
    "\n",
    "# Prepare data for visualization\n",
    "internal_ids = data['internal'].id.numpy()\n",
    "external_ids = data['external'].id.numpy()\n",
    "\n",
    "# Extract edge indices\n",
    "internal_internal_edges = data['internal', 'internal_txn', 'internal'].edge_index.numpy()\n",
    "internal_external_edges = data['internal', 'external_withdraw', 'external'].edge_index.numpy()\n",
    "external_internal_edges = data['external', 'external_deposit', 'internal'].edge_index.numpy()\n",
    "\n",
    "# Create a bipartite graph using NetworkX\n",
    "B = nx.Graph()\n",
    "\n",
    "# Add nodes with the bipartite attribute\n",
    "B.add_nodes_from(internal_ids, bipartite=0, type='internal')\n",
    "B.add_nodes_from(external_ids, bipartite=1, type='external')\n",
    "\n",
    "# Add edges (assuming you want to visualize both internal to external and external to internal)\n",
    "for edge in internal_external_edges.T:\n",
    "    B.add_edge(edge[0], edge[1])\n",
    "\n",
    "for edge in external_internal_edges.T:\n",
    "    B.add_edge(edge[0], edge[1])\n",
    "\n",
    "for edge in internal_internal_edges.T:\n",
    "    B.add_edge(edge[0], edge[1])"
   ]
  },
  {
   "cell_type": "code",
   "execution_count": 9,
   "metadata": {},
   "outputs": [],
   "source": [
    "# pos = nx.spring_layout(B) # Too long to compute\n",
    "# Use TSNE to reduce the dimensionality of the nodes into 2D\n",
    "from sklearn.decomposition import PCA\n",
    "from sklearn.manifold import TSNE\n",
    "pca = PCA(n_components=2)\n",
    "internal_emmbedding = data['internal'].x.detach().cpu().numpy()\n",
    "external_embedding = data['external'].x.detach().cpu().numpy()\n",
    "X = np.concatenate([internal_emmbedding, external_embedding], axis=0)\n",
    "pos = pca.fit_transform(X)"
   ]
  },
  {
   "cell_type": "code",
   "execution_count": 10,
   "metadata": {},
   "outputs": [
    {
     "data": {
      "text/plain": [
       "((13898,), (13898, 73), (6102,), (6102, 73))"
      ]
     },
     "execution_count": 10,
     "metadata": {},
     "output_type": "execute_result"
    }
   ],
   "source": [
    "internal_ids.shape,internal_emmbedding.shape,external_ids.shape,external_embedding.shape"
   ]
  },
  {
   "cell_type": "code",
   "execution_count": 11,
   "metadata": {},
   "outputs": [],
   "source": [
    "import pickle\n",
    "with open(f'{data_name}_ext_{ext_rate}_layout.pkl', 'wb') as f:\n",
    "    pickle.dump(pos, f)"
   ]
  },
  {
   "cell_type": "code",
   "execution_count": 7,
   "metadata": {},
   "outputs": [
    {
     "data": {
      "text/plain": [
       "203769"
      ]
     },
     "execution_count": 7,
     "metadata": {},
     "output_type": "execute_result"
    }
   ],
   "source": [
    "len(internal_emmbedding)+len(external_embedding)"
   ]
  },
  {
   "cell_type": "code",
   "execution_count": 13,
   "metadata": {},
   "outputs": [],
   "source": [
    "accounts = pd.read_csv(data_path + 'accounts.csv')"
   ]
  },
  {
   "cell_type": "code",
   "execution_count": 15,
   "metadata": {},
   "outputs": [
    {
     "data": {
      "text/plain": [
       "20000"
      ]
     },
     "execution_count": 15,
     "metadata": {},
     "output_type": "execute_result"
    }
   ],
   "source": [
    "len(accounts)"
   ]
  }
 ],
 "metadata": {
  "kernelspec": {
   "display_name": "dgraph",
   "language": "python",
   "name": "python3"
  },
  "language_info": {
   "codemirror_mode": {
    "name": "ipython",
    "version": 3
   },
   "file_extension": ".py",
   "mimetype": "text/x-python",
   "name": "python",
   "nbconvert_exporter": "python",
   "pygments_lexer": "ipython3",
   "version": "3.8.0"
  }
 },
 "nbformat": 4,
 "nbformat_minor": 2
}
