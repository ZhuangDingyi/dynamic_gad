{
 "cells": [
  {
   "cell_type": "markdown",
   "metadata": {},
   "source": [
    "Transform the complete graph into the bipartite one in this notebook.\n",
    "\n",
    "Key features to transform the public graph anomaly detection datasets into a more money laundry cases:\n",
    "\n",
    "1. There are two types of accounts existing. One is internal account and the other one is external account. Internal accounts will have rich node features as well as the node labels (fraud or not) recorded in the bank system. External accounts, on the other hand, we do not know any node features, node labels, as well as the connections (i.e. transactions) between external accounts. The only information we can have from the external information is the unique id defined by the external accounts' routing number and account ID.\n",
    "2. Apart from the two types of accounts, the edges, which are the transactions happening among accounts, can be further divided into three types: internal transactions (internal <->internal, where we know the features for both the origins and destinations), internal depsoit from external, and internal withdraw to external accounts."
   ]
  },
  {
   "cell_type": "code",
   "execution_count": 38,
   "metadata": {},
   "outputs": [
    {
     "name": "stdout",
     "output_type": "stream",
     "text": [
      "portion_external: 0.1\n"
     ]
    }
   ],
   "source": [
    "import pandas as pd\n",
    "import numpy as np\n",
    "import matplotlib.pyplot as plt\n",
    "import seaborn as sns\n",
    "from utils import *\n",
    "# Setup the random number of external data\n",
    "# The portion needs to be between 0 and 1 and requires sensitivity analysis\n",
    "seed = 1\n",
    "np.random.seed(seed=seed)\n",
    "portion_external = 0.1 # np.round(np.random.rand(),1)\n",
    "print(f\"portion_external: {portion_external}\")"
   ]
  },
  {
   "cell_type": "markdown",
   "metadata": {},
   "source": [
    "# Elliptic Data Processing"
   ]
  },
  {
   "cell_type": "code",
   "execution_count": 39,
   "metadata": {},
   "outputs": [
    {
     "data": {
      "text/plain": [
       "((203769, 2), (234355, 2), (203769, 165))"
      ]
     },
     "execution_count": 39,
     "metadata": {},
     "output_type": "execute_result"
    }
   ],
   "source": [
    "# Load and process the Elliptic data into heterogeneous data \n",
    "elliptic_accounts = pd.read_csv('./data/elliptic/elliptic_bitcoin_dataset/elliptic_txs_classes.csv')\n",
    "elliptic_edges    = pd.read_csv('./data/elliptic/elliptic_bitcoin_dataset/elliptic_txs_edgelist.csv')\n",
    "elliptic_features = pd.read_csv('./data/elliptic/elliptic_bitcoin_dataset/elliptic_txs_features.csv',header=None)\n",
    "elliptic_features = elliptic_features.drop(columns=[0,1])\n",
    "# Check the data shape\n",
    "elliptic_accounts.shape, elliptic_edges.shape, elliptic_features.shape"
   ]
  },
  {
   "cell_type": "code",
   "execution_count": 40,
   "metadata": {},
   "outputs": [],
   "source": [
    "# Randomly split the data into internal and external data\n",
    "np.random.seed(seed=seed)\n",
    "elliptic_accounts['internal'] = np.random.rand(len(elliptic_accounts)) > portion_external"
   ]
  },
  {
   "cell_type": "code",
   "execution_count": 49,
   "metadata": {},
   "outputs": [
    {
     "data": {
      "text/plain": [
       "(class\n",
       " unknown    0.771088\n",
       " 2          0.206389\n",
       " 1          0.022523\n",
       " Name: proportion, dtype: float64,\n",
       " class\n",
       " unknown    0.772084\n",
       " 2          0.205939\n",
       " 1          0.021977\n",
       " Name: proportion, dtype: float64)"
      ]
     },
     "execution_count": 49,
     "metadata": {},
     "output_type": "execute_result"
    }
   ],
   "source": [
    "# # Check the illicit and licit accounts in internal data\n",
    "# elliptic_accounts_internal = elliptic_accounts[elliptic_accounts['internal']]\n",
    "# elliptic_accounts_external = elliptic_accounts[~elliptic_accounts['internal']]\n",
    "# # Check the class distribution percentage\n",
    "# elliptic_accounts_internal['class'].value_counts(normalize=True), elliptic_accounts_external['class'].value_counts(normalize=True)"
   ]
  },
  {
   "cell_type": "markdown",
   "metadata": {},
   "source": [
    "The percentages of labels in the external and internal accounts remain same."
   ]
  },
  {
   "cell_type": "code",
   "execution_count": 41,
   "metadata": {},
   "outputs": [
    {
     "name": "stderr",
     "output_type": "stream",
     "text": [
      "/tmp/ipykernel_3802104/2692126609.py:11: SettingWithCopyWarning: \n",
      "A value is trying to be set on a copy of a slice from a DataFrame\n",
      "\n",
      "See the caveats in the documentation: https://pandas.pydata.org/pandas-docs/stable/user_guide/indexing.html#returning-a-view-versus-a-copy\n",
      "  elliptic_accounts_hetero['label'].loc[elliptic_accounts_hetero['internal']==0] = np.nan\n"
     ]
    }
   ],
   "source": [
    "# Create hetero data and features\n",
    "elliptic_accounts_hetero = pd.DataFrame(columns=['account_id','internal','label'])\n",
    "elliptic_features_hetero = elliptic_features.copy()\n",
    "\n",
    "# Hetero accounts\n",
    "elliptic_accounts_hetero['account_id'] = elliptic_accounts['txId']\n",
    "elliptic_accounts_hetero['internal'] = elliptic_accounts['internal']\n",
    "# Only record the illicit accounts\n",
    "elliptic_accounts_hetero['label'] = elliptic_accounts['class'].apply(lambda x: 1 if x == '1' else 0)\n",
    "# Set the external accounts label to be NaN\n",
    "elliptic_accounts_hetero['label'].loc[elliptic_accounts_hetero['internal']==0] = np.nan\n",
    "\n",
    "# Only keeps the features of internal accounts\n",
    "# elliptic_features_hetero.loc[elliptic_accounts_hetero['internal']==0] = 0\n",
    "# The external accounts features are the weighted average of the internal accounts\n",
    "elliptic_features_hetero = elliptic_features_hetero.fillna(0)\n",
    "elliptic_features_hetero.loc[elliptic_accounts_hetero['internal']==0] = 0"
   ]
  },
  {
   "cell_type": "code",
   "execution_count": 42,
   "metadata": {},
   "outputs": [],
   "source": [
    "# recording the transaction from account 1 (`sender`) to account 2 (`receiver`), with transaction type `txn_type`: 0 (internal transactions), 1 (internal->external), and 2(external->internal)\n",
    "elliptic_transactions_hetero = pd.DataFrame(columns=['sender','receiver','txn_type'])\n",
    "\n",
    "elliptic_transactions_hetero['sender'] = elliptic_edges['txId1']\n",
    "elliptic_transactions_hetero['receiver'] = elliptic_edges['txId2']\n",
    "\n",
    "elliptic_accounts_internal = elliptic_accounts_hetero['account_id'][elliptic_accounts_hetero['internal']]\n",
    "\n",
    "# Check the transaction type\n",
    "elliptic_transactions_senderflag = elliptic_transactions_hetero['sender'].isin(elliptic_accounts_internal)\n",
    "elliptic_transactions_receiverflag = elliptic_transactions_hetero['receiver'].isin(elliptic_accounts_internal)\n",
    "elliptic_transactions_hetero['txn_type'] = elliptic_transactions_senderflag.combine(elliptic_transactions_receiverflag,check_edge_type)\n",
    "\n",
    "# Drop the external -> external transactions\n",
    "elliptic_transactions_hetero = elliptic_transactions_hetero[elliptic_transactions_hetero['txn_type'] != -1]"
   ]
  },
  {
   "cell_type": "code",
   "execution_count": 43,
   "metadata": {},
   "outputs": [],
   "source": [
    "# Save the data\n",
    "elliptic_data_path = f'./hetero_data/elliptic/ext_{portion_external}/'\n",
    "import os\n",
    "if not os.path.exists(elliptic_data_path):\n",
    "    os.makedirs(elliptic_data_path)\n",
    "# Save to csv\n",
    "elliptic_accounts_hetero.to_csv(elliptic_data_path + 'accounts.csv',index=False)\n",
    "elliptic_transactions_hetero.to_csv(elliptic_data_path + 'transactions.csv',index=False)\n",
    "elliptic_features_hetero.to_csv(elliptic_data_path + 'features.csv',index=False)"
   ]
  },
  {
   "cell_type": "code",
   "execution_count": 37,
   "metadata": {},
   "outputs": [
    {
     "data": {
      "text/html": [
       "<div>\n",
       "<style scoped>\n",
       "    .dataframe tbody tr th:only-of-type {\n",
       "        vertical-align: middle;\n",
       "    }\n",
       "\n",
       "    .dataframe tbody tr th {\n",
       "        vertical-align: top;\n",
       "    }\n",
       "\n",
       "    .dataframe thead th {\n",
       "        text-align: right;\n",
       "    }\n",
       "</style>\n",
       "<table border=\"1\" class=\"dataframe\">\n",
       "  <thead>\n",
       "    <tr style=\"text-align: right;\">\n",
       "      <th></th>\n",
       "      <th>account_id</th>\n",
       "      <th>internal</th>\n",
       "      <th>label</th>\n",
       "    </tr>\n",
       "  </thead>\n",
       "  <tbody>\n",
       "    <tr>\n",
       "      <th>0</th>\n",
       "      <td>230425980</td>\n",
       "      <td>True</td>\n",
       "      <td>0.0</td>\n",
       "    </tr>\n",
       "    <tr>\n",
       "      <th>1</th>\n",
       "      <td>5530458</td>\n",
       "      <td>True</td>\n",
       "      <td>0.0</td>\n",
       "    </tr>\n",
       "    <tr>\n",
       "      <th>2</th>\n",
       "      <td>232022460</td>\n",
       "      <td>False</td>\n",
       "      <td>NaN</td>\n",
       "    </tr>\n",
       "    <tr>\n",
       "      <th>3</th>\n",
       "      <td>232438397</td>\n",
       "      <td>False</td>\n",
       "      <td>NaN</td>\n",
       "    </tr>\n",
       "    <tr>\n",
       "      <th>4</th>\n",
       "      <td>230460314</td>\n",
       "      <td>False</td>\n",
       "      <td>NaN</td>\n",
       "    </tr>\n",
       "    <tr>\n",
       "      <th>...</th>\n",
       "      <td>...</td>\n",
       "      <td>...</td>\n",
       "      <td>...</td>\n",
       "    </tr>\n",
       "    <tr>\n",
       "      <th>203764</th>\n",
       "      <td>173077460</td>\n",
       "      <td>True</td>\n",
       "      <td>0.0</td>\n",
       "    </tr>\n",
       "    <tr>\n",
       "      <th>203765</th>\n",
       "      <td>158577750</td>\n",
       "      <td>True</td>\n",
       "      <td>0.0</td>\n",
       "    </tr>\n",
       "    <tr>\n",
       "      <th>203766</th>\n",
       "      <td>158375402</td>\n",
       "      <td>True</td>\n",
       "      <td>1.0</td>\n",
       "    </tr>\n",
       "    <tr>\n",
       "      <th>203767</th>\n",
       "      <td>158654197</td>\n",
       "      <td>False</td>\n",
       "      <td>NaN</td>\n",
       "    </tr>\n",
       "    <tr>\n",
       "      <th>203768</th>\n",
       "      <td>157597225</td>\n",
       "      <td>False</td>\n",
       "      <td>NaN</td>\n",
       "    </tr>\n",
       "  </tbody>\n",
       "</table>\n",
       "<p>203769 rows × 3 columns</p>\n",
       "</div>"
      ],
      "text/plain": [
       "        account_id  internal  label\n",
       "0        230425980      True    0.0\n",
       "1          5530458      True    0.0\n",
       "2        232022460     False    NaN\n",
       "3        232438397     False    NaN\n",
       "4        230460314     False    NaN\n",
       "...            ...       ...    ...\n",
       "203764   173077460      True    0.0\n",
       "203765   158577750      True    0.0\n",
       "203766   158375402      True    1.0\n",
       "203767   158654197     False    NaN\n",
       "203768   157597225     False    NaN\n",
       "\n",
       "[203769 rows x 3 columns]"
      ]
     },
     "execution_count": 37,
     "metadata": {},
     "output_type": "execute_result"
    }
   ],
   "source": [
    "elliptic_accounts_hetero"
   ]
  }
 ],
 "metadata": {
  "kernelspec": {
   "display_name": "dingyi_py39",
   "language": "python",
   "name": "python3"
  },
  "language_info": {
   "codemirror_mode": {
    "name": "ipython",
    "version": 3
   },
   "file_extension": ".py",
   "mimetype": "text/x-python",
   "name": "python",
   "nbconvert_exporter": "python",
   "pygments_lexer": "ipython3",
   "version": "3.9.16"
  }
 },
 "nbformat": 4,
 "nbformat_minor": 2
}
